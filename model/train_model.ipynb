{
 "cells": [
  {
   "cell_type": "markdown",
   "id": "b9cc81fb",
   "metadata": {},
   "source": [
    "# Обучение модели\n",
    "В этом ноутбуке мы приведем код для обучения модели. Первоначально нами было выбрано 3 алгоритма для сравнения: FastText, SVD, CatBoost. В результате подбора параметров мы остановились на модели FastText, так как основная выбранная нами метрика показала наибольшее значение F = 0.91.\n",
    "\n",
    "Ниже будет показан код для обучения модели. Стоит отметить, что изначально был проведен разведочный анализ данных, их очистка на основе этого анализа, а затем препроцессинг (чтобы повысить эффективность модели). Информацию о подготовке данных мы подробно описали в соседних ноутбуках в нашем репозитории. "
   ]
  },
  {
   "cell_type": "code",
   "execution_count": 1,
   "id": "2337e6a1",
   "metadata": {
    "_cell_guid": "b1076dfc-b9ad-4769-8c92-a6c4dae69d19",
    "_uuid": "8f2839f25d086af736a60e9eeb907d3b93b6e0e5",
    "execution": {
     "iopub.execute_input": "2022-06-04T13:21:28.884192Z",
     "iopub.status.busy": "2022-06-04T13:21:28.883617Z",
     "iopub.status.idle": "2022-06-04T13:21:30.140401Z",
     "shell.execute_reply": "2022-06-04T13:21:30.139254Z"
    },
    "papermill": {
     "duration": 1.265674,
     "end_time": "2022-06-04T13:21:30.143264",
     "exception": false,
     "start_time": "2022-06-04T13:21:28.877590",
     "status": "completed"
    },
    "tags": []
   },
   "outputs": [],
   "source": [
    "#  Загружаем необходимые библиотеки. Все библиотеки с открытым исходным кодом.\n",
    "\n",
    "import pandas as pd\n",
    "import numpy as np\n",
    "\n",
    "import csv\n",
    "import fasttext\n",
    "from sklearn.metrics import roc_auc_score, accuracy_score\n",
    "from sklearn.model_selection import train_test_split"
   ]
  },
  {
   "cell_type": "code",
   "execution_count": 2,
   "id": "eaacf9bd",
   "metadata": {
    "execution": {
     "iopub.execute_input": "2022-06-04T13:21:30.152006Z",
     "iopub.status.busy": "2022-06-04T13:21:30.151582Z",
     "iopub.status.idle": "2022-06-04T13:21:42.509446Z",
     "shell.execute_reply": "2022-06-04T13:21:42.508129Z"
    },
    "papermill": {
     "duration": 12.365971,
     "end_time": "2022-06-04T13:21:42.512766",
     "exception": false,
     "start_time": "2022-06-04T13:21:30.146795",
     "status": "completed"
    },
    "tags": []
   },
   "outputs": [],
   "source": [
    "#  Загрузим данные\n",
    "data_preproc = pd.read_csv('../input/aihack-ved/data_preproc.csv')\n",
    "\n",
    "#  Присоединим label, он необходим для модели\n",
    "data_preproc.TNVED = data_preproc.TNVED.apply(lambda x: '__label__' + str(x))\n",
    "\n",
    "#  Сохраняем полученные данные чтобы передать их в classifier для обучения\n",
    "data_preproc[['TNVED', 'OPISANIE']].to_csv('train_.txt', \n",
    "                                          index = False, \n",
    "                                          sep = ' ',\n",
    "                                          header = None, \n",
    "                                          quoting = csv.QUOTE_NONE, \n",
    "                                          quotechar = \"\", \n",
    "                                          escapechar = \" \")\n",
    "\n",
    "#  Теперь обучим fastText classifier\n",
    "model = fasttext.train_supervised('./train_.txt')\n",
    "\n",
    "#  Сохраним полученную модель для дальнейшего использования\n",
    "model.save_model('train_all_data_default_set.fasttext_model')\n",
    "\n",
    "#  Считаем основную метрику F1\n",
    "_, precision, recall = model.test('./train_.txt') \n",
    "leaf_F1 = (2*precision*recall) / (precision+recall)"
   ]
  },
  {
   "cell_type": "code",
   "execution_count": 9,
   "id": "7e441887",
   "metadata": {
    "execution": {
     "iopub.execute_input": "2022-06-04T13:39:20.447552Z",
     "iopub.status.busy": "2022-06-04T13:39:20.446718Z",
     "iopub.status.idle": "2022-06-04T13:39:20.454692Z",
     "shell.execute_reply": "2022-06-04T13:39:20.453578Z"
    },
    "papermill": {
     "duration": 0.210382,
     "end_time": "2022-06-04T13:39:20.456866",
     "exception": false,
     "start_time": "2022-06-04T13:39:20.246484",
     "status": "completed"
    },
    "tags": []
   },
   "outputs": [
    {
     "data": {
      "text/plain": [
       "0.908126534377883"
      ]
     },
     "execution_count": 9,
     "metadata": {},
     "output_type": "execute_result"
    }
   ],
   "source": [
    "#  Значение метрики F1\n",
    "leaf_F1"
   ]
  }
 ],
 "metadata": {
  "kernelspec": {
   "display_name": "Python 3 (ipykernel)",
   "language": "python",
   "name": "python3"
  },
  "language_info": {
   "codemirror_mode": {
    "name": "ipython",
    "version": 3
   },
   "file_extension": ".py",
   "mimetype": "text/x-python",
   "name": "python",
   "nbconvert_exporter": "python",
   "pygments_lexer": "ipython3",
   "version": "3.10.3"
  },
  "papermill": {
   "default_parameters": {},
   "duration": 1083.718492,
   "end_time": "2022-06-04T13:39:22.190291",
   "environment_variables": {},
   "exception": null,
   "input_path": "__notebook__.ipynb",
   "output_path": "__notebook__.ipynb",
   "parameters": {},
   "start_time": "2022-06-04T13:21:18.471799",
   "version": "2.3.4"
  }
 },
 "nbformat": 4,
 "nbformat_minor": 5
}
