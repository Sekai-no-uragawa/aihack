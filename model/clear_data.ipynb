{
 "cells": [
  {
   "cell_type": "markdown",
   "id": "896a078c",
   "metadata": {},
   "source": [
    "# Очистка данных\n",
    "Очистка и разведочный анализ - важная часть обучения модели. Очень важно убрать значения которые могут привести к плохим результатам модели. \n",
    "В данных датасетах были убраны повторения, убраны слишком короткие слова, а также описания были очищены от знаков препинания. При преобразовании кода ВЭД в число в некоторых кодах была потеряна цифра 0, если с нее начинался код, поэтому ТНВЭД был преобразован в текст и мы вернули все числа на свои места.\n",
    "Полный код итоговой подготовки данных представлен ниже."
   ]
  },
  {
   "cell_type": "code",
   "execution_count": null,
   "id": "89617bda",
   "metadata": {},
   "outputs": [],
   "source": [
    "#  Загрузим библиотеки. Все библиотеки бесплатны и основаны на открытом исходном коде.\n",
    "import os\n",
    "import re\n",
    "import pandas as pd\n",
    "\n",
    "\n",
    "#  Напишем функции для очистки данных.\n",
    "def clear_data_ved(df1, save: bool = False, path: str = None, name: str = 'ved.csv'):\n",
    "    '''docstring\n",
    "    Функция принимает датафрейм и возвращает очищенный датафрейм, с разделенными кодами ВЭД/\n",
    "    Функция возвращает датафрейм. Также есть возможность сохранить файл по нужному пути и менять имя для сохранения.\n",
    "    '''\n",
    "    df = df1.copy()\n",
    "    df = df.astype({'KOD_TNVED_SPR': 'str'}) \n",
    "    df.KOD_TNVED_SPR = df.KOD_TNVED_SPR.apply(lambda x: '0' + x if len(x) == 9 else x) #  возвращаем 0 в начало если код начинался с 0\n",
    "    df['KOD_TNVED_FIRST_4'] = df.KOD_TNVED_SPR.str.slice(0, 4) #  колонка с 4 первыми цифрами\n",
    "    df['KOD_TNVED_LAST_6'] = df.KOD_TNVED_SPR.str.slice(-6) #  остальные 6 цифр кода\n",
    "    df = df.drop(columns='KOD_TNVED_SPR')\n",
    "    df = df.drop(columns=df.columns[0], axis=1)\n",
    "    if save and path is not None:\n",
    "        path = os.path.join(path, name)\n",
    "        df.to_csv(path)\n",
    "    elif save and path is None:\n",
    "        df.to_csv(name)\n",
    "    return df\n",
    "\n",
    "\n",
    "def clear_data_opisanie(df2, save: bool = False, path: str = None, name: str = 'ved.csv'):\n",
    "    '''docstring\n",
    "    Функция принимает датафрейм и возвращает очищенный датафрейм, с разделенными кодами ВЭД/\n",
    "    Функция возвращает датафрейм. Также есть возможность сохранить файл по нужному пути и менять имя для сохранения.\n",
    "    '''\n",
    "    df = df2.copy()\n",
    "    df = df[['TNVED', 'OPISANIE']].drop_duplicates()\n",
    "    df['len_opisanie'] = list(map(len, df.OPISANIE)) #  получаем длину описаний.\n",
    "    df = df.query('len_opisanie != 1') #  убираем бессмысленные и пустые ячейки.\n",
    "    df = df.query('len_opisanie != 2')\n",
    "    df.reset_index(inplace=True)\n",
    "    try: #  удаление определенной строки связано с этим датасетом и на другом может привести к ошибке.\n",
    "        df = df.drop(index=[1363489]) #  при длине в 3 знака здесь были только знаки препинания.\n",
    "    except:\n",
    "        pass\n",
    "    df = df.drop(['index'], axis=1)\n",
    "    #  ставим регулярку для того чтобы избавиться от знаков препинания.\n",
    "    pattern = r\"\"\"(?:[A-Z]\\.)+ |\\d+(?:\\.\\d+)?%?|\\w/.+$\\s-|\\w+(?:[-']\\w+)*|\n",
    "    (?:[+/\\-@&*]|/.$/)\"\"\"\n",
    "    df.OPISANIE = df.OPISANIE.apply(lambda x: ' '.join(re.findall(pattern, x))) #  убираем знаки препинания\n",
    "    df.drop(['len_opisanie'], axis=1, inplace=True)\n",
    "    df = df.astype({'TNVED': 'str'})\n",
    "    df.TNVED = df.TNVED.apply(lambda x: '0' + x if len(x) == 3 else x) #  возвращаем 0 в начало кода, если он пропал.\n",
    "    if save and path is not None:\n",
    "        path = os.path.join(path, name)\n",
    "        df.to_csv(path)\n",
    "    elif save and path is None:\n",
    "        df.to_csv(name)\n",
    "    return df"
   ]
  },
  {
   "cell_type": "code",
   "execution_count": null,
   "id": "3ad7306a",
   "metadata": {},
   "outputs": [],
   "source": [
    "#  загружаем данные\n",
    "df1 = pd.read_csv('tnveddata_20211126.csv', encoding='mbcs', sep=';')\n",
    "df2 = pd.read_csv('dataset_20211126.csv', encoding='mbcs', sep=';')\n",
    "\n",
    "df1_1 = clear_data_ved(df1, save=True, name='ved1.csv')\n",
    "df2_1 = clear_data_opisanie(df2, save=True, name='ved2.csv')"
   ]
  }
 ],
 "metadata": {
  "kernelspec": {
   "display_name": "Python 3 (ipykernel)",
   "language": "python",
   "name": "python3"
  },
  "language_info": {
   "codemirror_mode": {
    "name": "ipython",
    "version": 3
   },
   "file_extension": ".py",
   "mimetype": "text/x-python",
   "name": "python",
   "nbconvert_exporter": "python",
   "pygments_lexer": "ipython3",
   "version": "3.10.3"
  }
 },
 "nbformat": 4,
 "nbformat_minor": 5
}
